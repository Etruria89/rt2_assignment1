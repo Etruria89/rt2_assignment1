{
 "cells": [
  {
   "cell_type": "markdown",
   "id": "b6d982ec",
   "metadata": {},
   "source": [
    "\n"
   ]
  },
  {
   "cell_type": "code",
   "execution_count": 4,
   "id": "5641eb69",
   "metadata": {
    "ExecuteTime": {
     "end_time": "2021-06-05T23:12:43.293693Z",
     "start_time": "2021-06-05T23:12:43.270902Z"
    }
   },
   "outputs": [],
   "source": [
    "%matplotlib widget\n",
    "import numpy as np\n",
    "\n",
    "import matplotlib.pyplot as plt\n",
    "from matplotlib import animation, rc\n",
    "import matplotlib.ticker as ticker\n",
    "\n",
    "from ipywidgets import Button, Layout, ButtonStyle, GridBox, VBox, HBox\n",
    "import ipywidgets as widgets\n",
    "\n",
    "import time\n",
    "\n",
    "import jupyros as jr\n",
    "import rospy\n",
    "\n",
    "from tf.transformations import euler_from_quaternion\n",
    "\n",
    "import actionlib\n",
    "import actionlib.msg\n",
    "import rt2_assignment1.msg\n",
    "from geometry_msgs.msg import Twist\n",
    "from rt2_assignment1.srv import Command\n",
    "from rosgraph_msgs.msg import Clock\n",
    "from nav_msgs.msg import Odometry\n",
    "\n",
    "#Control node initialization\n",
    "rospy.init_node('jupyter_node')\n",
    "\n",
    "# Global variable initialization\n",
    "global linear_set, angular_set\n",
    "\n",
    "linear_set = 0.0 \n",
    "angular_set = 0.0\n"
   ]
  },
  {
   "cell_type": "markdown",
   "id": "68a06958",
   "metadata": {},
   "source": [
    "## Control Block\n",
    "\n",
    "### Start and stop buttons"
   ]
  },
  {
   "cell_type": "code",
   "execution_count": 5,
   "id": "f73768c6",
   "metadata": {
    "ExecuteTime": {
     "end_time": "2021-06-05T23:12:44.552007Z",
     "start_time": "2021-06-05T23:12:44.425466Z"
    }
   },
   "outputs": [
    {
     "data": {
      "application/vnd.jupyter.widget-view+json": {
       "model_id": "0ce6cc849e1947e1bc36f299275909ce",
       "version_major": 2,
       "version_minor": 0
      },
      "text/plain": [
       "VBox(children=(GridBox(children=(Button(description='Start', layout=Layout(grid_area='Start', width='auto'), s…"
      ]
     },
     "metadata": {},
     "output_type": "display_data"
    }
   ],
   "source": [
    "# Start and stop button definition\n",
    "start  = Button(description='Start',layout=Layout(width='auto', align=\"center\", grid_area='Start'),style=ButtonStyle(button_color='green'))\n",
    "stop  = Button(description='Stop',layout=Layout(width='auto', grid_area='Stop'),style=ButtonStyle(button_color='red'))\n",
    "output = widgets.Output()\n",
    "\n",
    "#Node initialization\n",
    "ui_client = rospy.ServiceProxy('/user_interface', Command)\n",
    "action_service = actionlib.SimpleActionServer(\n",
    "        '/go_to_point', rt2_assignment1.msg.Control2_1Action, auto_start=False)\n",
    "action_client = actionlib.SimpleActionClient('/go_to_point', rt2_assignment1.msg.Control2_1Action)\n",
    "\n",
    "# Stop the robot and initialize its status\n",
    "ui_client(\"stop\")\n",
    "random_status = False\n",
    "\n",
    "# Output of the buttons\n",
    "def start_click(start):\n",
    "    global random_status\n",
    "    with output:\n",
    "        ui_client(\"start\")\n",
    "        if random_status == True:\n",
    "            print(\"I am already on my random way\")\n",
    "        random_status = True\n",
    "        print('Start clicked')\n",
    "        \n",
    "\n",
    "def stop_click(stop):\n",
    "    global random_status\n",
    "    with output:\n",
    "        ui_client(\"stop\")\n",
    "        if random_status == False:\n",
    "            print(\"I was already stopped\")\n",
    "        random_status = False        \n",
    "        print('Stop clicked')\n",
    "        \n",
    "    \n",
    "# Callback definition\n",
    "start.on_click(start_click)\n",
    "stop.on_click(stop_click)\n",
    "\n",
    "\n",
    "# Buttons display\n",
    "buttons = GridBox(children=[start, stop],layout=Layout(width='50%',grid_template_rows='auto auto',grid_template_columns='50% 50%',grid_template_areas='''\"Start Stop \"'''))\n",
    "widgets.VBox([buttons, output])\n"
   ]
  },
  {
   "cell_type": "code",
   "execution_count": 6,
   "id": "610c2273",
   "metadata": {
    "ExecuteTime": {
     "end_time": "2021-06-05T23:12:49.309809Z",
     "start_time": "2021-06-05T23:12:49.232292Z"
    }
   },
   "outputs": [
    {
     "data": {
      "application/vnd.jupyter.widget-view+json": {
       "model_id": "6dd6432b6398445daaa6b360cabf3beb",
       "version_major": 2,
       "version_minor": 0
      },
      "text/plain": [
       "VBox(children=(HBox(children=(Button(description='Stop', style=ButtonStyle()),)), Output(layout=Layout(border=…"
      ]
     },
     "metadata": {},
     "output_type": "display_data"
    }
   ],
   "source": [
    "## Subscribe to the /go_to_point/result topic\n",
    "hist_time = []\n",
    "bar_y = [0, 0]\n",
    "\n",
    "def result_callback(msg):\n",
    "    if msg.result.reached == True:\n",
    "        bar_y[1] = bar_y[1] + 1 \n",
    "        hist_time.append(msg.header.stamp.secs - msg.status.goal_id.stamp.secs)\n",
    "    else:\n",
    "        bar_y[0] = bar_y[0] + 1 \n",
    "    print(bar_y)\n",
    "    print(hist_time)\n",
    "\n",
    "# Subscribe to the /go_to_point/results topic\n",
    "jr.subscribe('/go_to_point/result', rt2_assignment1.msg.Control2_1Action, result_callback)    "
   ]
  },
  {
   "cell_type": "code",
   "execution_count": 7,
   "id": "bcf6cdf5",
   "metadata": {
    "ExecuteTime": {
     "end_time": "2021-06-05T23:12:52.866513Z",
     "start_time": "2021-06-05T23:12:52.784135Z"
    }
   },
   "outputs": [
    {
     "data": {
      "application/vnd.jupyter.widget-view+json": {
       "model_id": "51c21a8a8f614178873b94aca743a645",
       "version_major": 2,
       "version_minor": 0
      },
      "text/plain": [
       "Canvas(toolbar=Toolbar(toolitems=[('Home', 'Reset original view', 'home', 'home'), ('Back', 'Back to previous …"
      ]
     },
     "metadata": {},
     "output_type": "display_data"
    }
   ],
   "source": [
    "# Callback and data for the barplot with the result reached and cancelled\n",
    "bar_fig = plt.figure()\n",
    "ax_bar = bar_fig.add_subplot(111)\n",
    "bar_x = ['Cancelled', 'Reached']\n",
    "ax_bar.set_ylabel(\"Target summary\")\n",
    "rects = plt.bar(bar_x, bar_y, color='c')\n",
    "\n",
    "def animate_rects(i):\n",
    "    for rec, val in zip(rects, bar_y):\n",
    "         rec.set_height(val)   \n",
    "    ax_bar.set_ylim([0, max(bar_y)+1]) \n",
    "    return rects, \n",
    "\n",
    "# Create an animation function for the barplot\n",
    "anim_reached = animation.FuncAnimation(bar_fig, animate_rects, blit=True)  "
   ]
  },
  {
   "cell_type": "code",
   "execution_count": 8,
   "id": "c67e7694",
   "metadata": {
    "ExecuteTime": {
     "end_time": "2021-06-05T23:12:56.777446Z",
     "start_time": "2021-06-05T23:12:56.590762Z"
    }
   },
   "outputs": [
    {
     "data": {
      "application/vnd.jupyter.widget-view+json": {
       "model_id": "96e08e334baf400d89f20175b289f429",
       "version_major": 2,
       "version_minor": 0
      },
      "text/plain": [
       "Canvas(toolbar=Toolbar(toolitems=[('Home', 'Reset original view', 'home', 'home'), ('Back', 'Back to previous …"
      ]
     },
     "metadata": {},
     "output_type": "display_data"
    }
   ],
   "source": [
    "# Callback and data for the histogram with the required time\n",
    "hist_fig, ax_hist = plt.subplots()\n",
    "ax_hist.set_xlabel(\"Time to target\")\n",
    "ax_hist.set_ylabel(\"Occurencies\")\n",
    "ax_hist.set_ylim([0, 1]) \n",
    "\n",
    "# Fixing bin edges\n",
    "HIST_BINS = np.linspace(5, 40, 35)\n",
    "n, _ = np.histogram(hist_time, HIST_BINS)\n",
    "\n",
    "\n",
    "_, _, bar_container = ax_hist.hist(hist_time, HIST_BINS, lw=1,ec=\"yellow\", fc=\"green\", alpha=0.5)\n",
    "\n",
    "\n",
    "def animate_hist(i):    \n",
    "        n, _ = np.histogram(hist_time, HIST_BINS)\n",
    "        ax_hist.hist(hist_time, HIST_BINS, lw=1,ec=\"yellow\", fc=\"green\", alpha=0.5)\n",
    "        ax_hist.autoscale()\n",
    "        \n",
    "\n",
    "# Create an animation function for the histogram\n",
    "anim_hist = animation.FuncAnimation(hist_fig, animate_hist, blit=True) \n"
   ]
  },
  {
   "cell_type": "markdown",
   "id": "a7caabb4",
   "metadata": {
    "ExecuteTime": {
     "end_time": "2021-05-29T20:14:19.026334Z",
     "start_time": "2021-05-29T20:14:19.018683Z"
    }
   },
   "source": [
    "### Slider commands"
   ]
  },
  {
   "cell_type": "code",
   "execution_count": 9,
   "id": "15883e42",
   "metadata": {
    "ExecuteTime": {
     "end_time": "2021-06-05T23:13:04.431772Z",
     "start_time": "2021-06-05T23:13:04.250415Z"
    },
    "scrolled": true
   },
   "outputs": [
    {
     "data": {
      "application/vnd.jupyter.widget-view+json": {
       "model_id": "561f3d26c3494544a264938e20e5e181",
       "version_major": 2,
       "version_minor": 0
      },
      "text/plain": [
       "FloatSlider(value=0.0, description='Linear vel.', max=1.0, min=-1.0)"
      ]
     },
     "metadata": {},
     "output_type": "display_data"
    },
    {
     "data": {
      "application/vnd.jupyter.widget-view+json": {
       "model_id": "01555f6d8adf4ea0a158c6ed23663389",
       "version_major": 2,
       "version_minor": 0
      },
      "text/plain": [
       "FloatSlider(value=0.0, description='Angular vel.', max=1.0, min=-1.0)"
      ]
     },
     "metadata": {},
     "output_type": "display_data"
    },
    {
     "name": "stdout",
     "output_type": "stream",
     "text": [
      "Command ignored, random position movement active\n",
      "Command ignored, random position movement active\n"
     ]
    }
   ],
   "source": [
    "pub = rospy.Publisher('cmd_vel', Twist, queue_size=10)\n",
    "\n",
    "msg = Twist()\n",
    "\n",
    "a = widgets.FloatSlider(min=-1.0, max=1.0, description='Linear vel.')\n",
    "display(a)\n",
    "\n",
    "b = widgets.FloatSlider(min=-1.0, max=1.0, description='Angular vel.')\n",
    "display(b)\n",
    "\n",
    "\n",
    "def on_value_change(change):\n",
    "    global msg, random_status, linear_set\n",
    "    if random_status == False:\n",
    "        msg.linear.x = change['new']\n",
    "        linear_set = msg.linear.x\n",
    "        pub.publish(msg)\n",
    "    else:\n",
    "        print(\"Command ignored, random position movement active\")\n",
    "    \n",
    "def on_valueang_change(change):\n",
    "    global msg, random_status, angular_set\n",
    "    if random_status == False:\n",
    "        msg.angular.z = change['new']\n",
    "        angular_set = msg.angular.z \n",
    "        pub.publish(msg)\n",
    "    else:\n",
    "        print(\"Command ignored, random position movement active\")\n",
    "\n",
    "a.observe(on_value_change, names='value')\n",
    "b.observe(on_valueang_change, names='value')\n"
   ]
  },
  {
   "cell_type": "markdown",
   "id": "d264e468",
   "metadata": {},
   "source": [
    "### Control via buttons"
   ]
  },
  {
   "cell_type": "code",
   "execution_count": 10,
   "id": "c67b1937",
   "metadata": {
    "ExecuteTime": {
     "end_time": "2021-06-05T23:13:07.432678Z",
     "start_time": "2021-06-05T23:13:07.280321Z"
    }
   },
   "outputs": [
    {
     "data": {
      "application/vnd.jupyter.widget-view+json": {
       "model_id": "20f167e1a1304c5299a8d8d7c3ad2fca",
       "version_major": 2,
       "version_minor": 0
      },
      "text/plain": [
       "GridBox(children=(Button(description='W', layout=Layout(grid_area='W', width='auto'), style=ButtonStyle(button…"
      ]
     },
     "metadata": {},
     "output_type": "display_data"
    }
   ],
   "source": [
    "up  = Button(description='W',layout=Layout(width='auto', align=\"center\", grid_area='W'),style=ButtonStyle(button_color='gray'))\n",
    "left  = Button(description='A',layout=Layout(width='auto', grid_area='A'),style=ButtonStyle(button_color='gray'))\n",
    "stop_asd  = Button(description='Alt',layout=Layout(width='auto', grid_area='Alt'),style=ButtonStyle(button_color='red'))\n",
    "right = Button(description='D',layout=Layout(width='auto', grid_area='D'),style=ButtonStyle(button_color='gray'))\n",
    "down = Button(description='S',layout=Layout(width='auto', grid_area='S'),style=ButtonStyle(button_color='gray'))\n",
    "\n",
    "# Output of the buttons for moving\n",
    "def up_click(up):\n",
    "    global random_status, linear_set, angular_set\n",
    "    if random_status == True:\n",
    "        ui_client(\"stop\")\n",
    "        print(\"Random go to point stopped, click again to start\")\n",
    "    elif random_status == False:\n",
    "        msg.linear.x = linear_set\n",
    "        msg.angular.z = 0.0\n",
    "        pub.publish(msg)\n",
    "        print(\"Go straight\")     \n",
    "        \n",
    "def down_click(down):\n",
    "    global random_status, linear_set, angular_set\n",
    "    if random_status == True:\n",
    "        ui_client(\"stop\")\n",
    "        print(\"Random go to point stopped, click again to start\")\n",
    "    elif random_status == False:\n",
    "        msg.linear.x = -linear_set\n",
    "        msg.angular.z = 0.0\n",
    "        linear_set = msg.linear.x \n",
    "        angular_set = msg.angular.z \n",
    "        pub.publish(msg)\n",
    "        print(\"Shrimp style\")\n",
    "        \n",
    "def right_click(right):\n",
    "    global random_status, linear_set, angular_set\n",
    "    if random_status == True:\n",
    "        ui_client(\"stop\")\n",
    "        print(\"Random go to point stopped, click again to start\")\n",
    "    elif random_status == False:\n",
    "        msg.linear.x = linear_set\n",
    "        msg.angular.z = angular_set\n",
    "        pub.publish(msg)\n",
    "        print(\"Turn right\")\n",
    "        \n",
    "def left_click(left):\n",
    "    global random_status, linear_set, angular_set\n",
    "    if random_status == True:\n",
    "        ui_client(\"stop\")\n",
    "        print(\"Random go to point stopped, click again to start\")\n",
    "    elif random_status == False:\n",
    "        msg.linear.x = linear_set\n",
    "        msg.angular.z = -angular_set\n",
    "        pub.publish(msg)\n",
    "        print(\"Turn left\")\n",
    "\n",
    "        \n",
    "# Output of the button for stopping       \n",
    "def stop_asd_click(stop_asd):\n",
    "    global random_status, linear_set, angular_set\n",
    "    if random_status == True:\n",
    "        ui_client(\"stop\")\n",
    "        print(\"Random go to point stopped, manual mode active.\")\n",
    "        random_status = False\n",
    "    elif random_status == False:\n",
    "        msg.linear.x = 0.0\n",
    "        msg.angular.z = 0.0\n",
    "        linear_set = msg.linear.x \n",
    "        angular_set = msg.angular.z\n",
    "        pub.publish(msg)\n",
    "        print('Robot stopped')\n",
    "\n",
    "# Callback definition\n",
    "up.on_click(up_click)\n",
    "down.on_click(down_click)\n",
    "right.on_click(right_click)\n",
    "left.on_click(left_click)\n",
    "stop_asd.on_click(stop_asd_click)\n",
    "\n",
    "# Buttons display\n",
    "buttons = GridBox(children=[start, stop],layout=Layout(width='50%',grid_template_rows='auto auto',grid_template_columns='50% 50%',grid_template_areas='''\"Start Stop \"'''))\n",
    "widgets.VBox([buttons, output])\n",
    "\n",
    "GridBox(children=[up,  left, stop_asd, right, down],layout=Layout(width='50%',grid_template_rows='auto auto',grid_template_columns='33% 33% 33%',grid_template_areas='''\" . W . \"\"A Alt D \"\".S .\"'''))"
   ]
  },
  {
   "cell_type": "markdown",
   "id": "d9af290e",
   "metadata": {},
   "source": [
    "## Display\n",
    "### Visualize robot movement"
   ]
  },
  {
   "cell_type": "code",
   "execution_count": 13,
   "id": "f9f733aa",
   "metadata": {
    "ExecuteTime": {
     "end_time": "2021-06-05T23:15:37.455630Z",
     "start_time": "2021-06-05T23:15:37.360416Z"
    },
    "scrolled": false
   },
   "outputs": [
    {
     "data": {
      "application/vnd.jupyter.widget-view+json": {
       "model_id": "890c44ae2ac8468a819cd7b19069abe8",
       "version_major": 2,
       "version_minor": 0
      },
      "text/plain": [
       "Canvas(toolbar=Toolbar(toolitems=[('Home', 'Reset original view', 'home', 'home'), ('Back', 'Back to previous …"
      ]
     },
     "metadata": {},
     "output_type": "display_data"
    },
    {
     "name": "stderr",
     "output_type": "stream",
     "text": [
      "Removing previous callback, only one redirection possible right now\n"
     ]
    }
   ],
   "source": [
    "# First set up the figures and the axis \n",
    "    # Robot position and orientation\n",
    "fig, ax = plt.subplots()\n",
    "ax.set_xlim(( -5, 5))\n",
    "ax.set_ylim((-5, 5))\n",
    "plt.xlabel(\"X\")\n",
    "plt.ylabel(\"Y\")\n",
    "plt.title(\"Robot positon\")\n",
    "\n",
    "line, = ax.plot([], [], 'ro')\n",
    "\n",
    "x_data = []\n",
    "y_data = []\n",
    "theta_data = []\n",
    "\n",
    "#quiver initialization\n",
    "Q = ax.quiver(1,1,1,1, alpha = 0)\n",
    "\n",
    "def init():\n",
    "    line.set_data([], [])\n",
    "    return (line,)\n",
    "    \n",
    "def animate(i):\n",
    "    global Q\n",
    "    Q.remove()\n",
    "    \n",
    "    line.set_data(x_data, y_data)     \n",
    "    \n",
    "    X = x_data[-1] + 0.15 * np.cos(theta_data[-1])\n",
    "    Y = y_data[-1] + 0.15 * np.sin(theta_data[-1])\n",
    "    U = 0.2 * np.cos(theta_data[-1]) + np.cos(theta_data[-1])\n",
    "    V = 0.2 * np.sin(theta_data[-1]) + np.sin(theta_data[-1])\n",
    "    Q = ax.quiver(X, Y, U, V,scale = 1, color='k', pivot = 'tail', units='xy', alpha=0.6, edgecolor = 'gray')\n",
    "    return (line, Q)\n",
    "\n",
    "def odom_callback(msg):\n",
    "    y_data.append(msg.pose.pose.position.y)\n",
    "    x_data.append(msg.pose.pose.position.x)\n",
    "    quaternion = (msg.pose.pose.orientation.x, msg.pose.pose.orientation.y,msg.pose.pose.orientation.z, msg.pose.pose.orientation.w)\n",
    "    euler_angles = euler_from_quaternion(quaternion)\n",
    "    theta_data.append(euler_angles[2]) \n",
    "      \n",
    "                  \n",
    "# Read robot odometry\n",
    "jr.subscribe('/odom', Odometry, odom_callback)\n",
    "\n",
    "# call the animator. blit=True means only re-draw the parts that have changed.)\n",
    "anim_position = animation.FuncAnimation(fig, animate, init_func=init, blit=True)\n"
   ]
  },
  {
   "cell_type": "markdown",
   "id": "6b5a7d39",
   "metadata": {},
   "source": [
    "### Velocity display"
   ]
  },
  {
   "cell_type": "code",
   "execution_count": 11,
   "id": "103964c6",
   "metadata": {
    "ExecuteTime": {
     "end_time": "2021-06-05T23:13:18.628139Z",
     "start_time": "2021-06-05T23:13:18.431869Z"
    },
    "scrolled": true
   },
   "outputs": [
    {
     "data": {
      "application/vnd.jupyter.widget-view+json": {
       "model_id": "c79434db87a8468091534b2a8f897e6a",
       "version_major": 2,
       "version_minor": 0
      },
      "text/plain": [
       "Canvas(toolbar=Toolbar(toolitems=[('Home', 'Reset original view', 'home', 'home'), ('Back', 'Back to previous …"
      ]
     },
     "metadata": {},
     "output_type": "display_data"
    },
    {
     "name": "stderr",
     "output_type": "stream",
     "text": [
      "Removing previous callback, only one redirection possible right now\n",
      "Removing previous callback, only one redirection possible right now\n"
     ]
    }
   ],
   "source": [
    "# Velocity feedback\n",
    "fig_vel, ax_vel = plt.subplots()\n",
    "ax_vel.set_xlim(0, 100)\n",
    "ax_vel.set_ylim((-1.1, 1.1))\n",
    "plt.title(\"Velocity check\")\n",
    "plt.xlabel(\"Time [s]\")\n",
    "plt.ylabel(\"Velocity\")\n",
    "# Array initilaization\n",
    "\n",
    "time_vect = []\n",
    "vel_target = []\n",
    "vel_current = []\n",
    "angular_target = []\n",
    "angular_current = []\n",
    "\n",
    "#Line initialization and color definition\n",
    "    # linear velocity\n",
    "line_vel_target, = ax_vel.plot([], [], 'ob', markersize='10')\n",
    "line_vel_current, = ax_vel.plot([], [], 'or', markersize='5')\n",
    "    # angular velocity\n",
    "line_ang_target, = ax_vel.plot([], [], 'oc', markersize='10')\n",
    "line_ang_current, = ax_vel.plot([], [], 'og', markersize='5')\n",
    "\n",
    "\n",
    "def init_vel():\n",
    "    # linear velocity lines\n",
    "    line_vel_target.set_data([], [])\n",
    "    line_vel_current.set_data([], [])    \n",
    "    # angular velocity lines\n",
    "    line_ang_target.set_data([], [])\n",
    "    line_ang_current.set_data([], [])\n",
    "    \n",
    "    #return (line_vel_current, line_vel_target, ang_vel_current, ang_vel_target,)  \n",
    "    return (line_vel_target, line_ang_target, line_vel_current, line_ang_current)\n",
    "\n",
    "def animate_vel(i):   \n",
    "    # linear velocity lines\n",
    "    line_vel_target.set_data(time_vect, vel_target)   \n",
    "    line_vel_current.set_data(time_vect, vel_current)  \n",
    "    # angular velocity lines\n",
    "    line_ang_target.set_data(time_vect, angular_target) \n",
    "    line_ang_current.set_data(time_vect, angular_current) \n",
    "    ax_vel.legend([line_vel_target, line_ang_target, line_vel_current, line_ang_current], ['Cmd. linear', 'Cmd. angular', 'Linear Vel.', 'Angular Vel.'], loc = 'lower left')\n",
    "    time.sleep(1)\n",
    "    return (line_vel_target, line_ang_target, line_vel_current, line_ang_current)\n",
    "\n",
    "def vel_callback(msg_cmd):   \n",
    "    \n",
    "    time_vect.append(rospy.get_time())       \n",
    "    vel_target.append(msg_cmd.linear.x)  \n",
    "    angular_target.append(msg_cmd.angular.z)  \n",
    "    x_min = max([0, max(time_vect) - 30]) \n",
    "    x_max = max([100, max(time_vect)])\n",
    "    ax_vel.set_xlim( x_min, x_max )\n",
    "    \n",
    "def odom_speed_callback(msg_odom):       \n",
    "    vel_current.append(msg_odom.twist.twist.linear.x) \n",
    "    angular_current.append(msg_odom.twist.twist.angular.z)\n",
    "\n",
    "# Read robot velocity\n",
    "jr.subscribe('cmd_vel', Twist, vel_callback)\n",
    "# Read robot odometry\n",
    "jr.subscribe('odom', Odometry, odom_speed_callback)\n",
    "\n",
    "# Animation function for velocity check\n",
    "anim_velocity = animation.FuncAnimation(fig_vel, animate_vel, init_func=init_vel, blit=True)\n"
   ]
  },
  {
   "cell_type": "code",
   "execution_count": null,
   "id": "f80e3125",
   "metadata": {},
   "outputs": [],
   "source": []
  }
 ],
 "metadata": {
  "hide_input": false,
  "kernelspec": {
   "display_name": "Python 3",
   "language": "python",
   "name": "python3"
  },
  "language_info": {
   "codemirror_mode": {
    "name": "ipython",
    "version": 3
   },
   "file_extension": ".py",
   "mimetype": "text/x-python",
   "name": "python",
   "nbconvert_exporter": "python",
   "pygments_lexer": "ipython3",
   "version": "3.8.5"
  },
  "toc": {
   "base_numbering": 1,
   "nav_menu": {},
   "number_sections": true,
   "sideBar": true,
   "skip_h1_title": false,
   "title_cell": "Table of Contents",
   "title_sidebar": "Contents",
   "toc_cell": false,
   "toc_position": {},
   "toc_section_display": true,
   "toc_window_display": false
  },
  "varInspector": {
   "cols": {
    "lenName": 16,
    "lenType": 16,
    "lenVar": 40
   },
   "kernels_config": {
    "python": {
     "delete_cmd_postfix": "",
     "delete_cmd_prefix": "del ",
     "library": "var_list.py",
     "varRefreshCmd": "print(var_dic_list())"
    },
    "r": {
     "delete_cmd_postfix": ") ",
     "delete_cmd_prefix": "rm(",
     "library": "var_list.r",
     "varRefreshCmd": "cat(var_dic_list()) "
    }
   },
   "types_to_exclude": [
    "module",
    "function",
    "builtin_function_or_method",
    "instance",
    "_Feature"
   ],
   "window_display": false
  }
 },
 "nbformat": 4,
 "nbformat_minor": 5
}
