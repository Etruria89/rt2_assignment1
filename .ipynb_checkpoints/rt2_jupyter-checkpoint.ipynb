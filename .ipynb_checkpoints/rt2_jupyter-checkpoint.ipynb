{
 "cells": [
  {
   "cell_type": "markdown",
   "id": "b6d982ec",
   "metadata": {},
   "source": [
    "\n"
   ]
  },
  {
   "cell_type": "code",
   "execution_count": 1,
   "id": "5641eb69",
   "metadata": {
    "ExecuteTime": {
     "end_time": "2021-06-01T23:52:04.802185Z",
     "start_time": "2021-06-01T23:52:03.853302Z"
    }
   },
   "outputs": [],
   "source": [
    "%matplotlib widget\n",
    "import numpy as np\n",
    "import matplotlib.pyplot as plt\n",
    "from ipywidgets import Button, Layout, ButtonStyle, GridBox, VBox, HBox\n",
    "import ipywidgets as widgets\n",
    "import jupyros as jr\n",
    "import rospy\n",
    "import actionlib\n",
    "import actionlib.msg\n",
    "from tf.transformations import euler_from_quaternion\n",
    "from rosgraph_msgs.msg import Clock\n",
    "from nav_msgs.msg import Odometry\n",
    "from matplotlib import animation, rc\n",
    "from rt2_assignment1.srv import Command\n",
    "import rt2_assignment1.msg\n",
    "from geometry_msgs.msg import Twist\n",
    "import time\n",
    "\n",
    "#Control node initialization\n",
    "rospy.init_node('jupyter_node')\n",
    "\n",
    "# Global variable initialization\n",
    "global linear_set, angular_set\n",
    "\n"
   ]
  },
  {
   "cell_type": "markdown",
   "id": "68a06958",
   "metadata": {},
   "source": [
    "## Control Block\n",
    "\n",
    "### Start and stop buttons\n"
   ]
  },
  {
   "cell_type": "code",
   "execution_count": 12,
   "id": "f73768c6",
   "metadata": {
    "ExecuteTime": {
     "end_time": "2021-06-01T23:59:00.627403Z",
     "start_time": "2021-06-01T23:59:00.584688Z"
    }
   },
   "outputs": [
    {
     "data": {
      "application/vnd.jupyter.widget-view+json": {
       "model_id": "32cee04a07df41308ec6426fc900bdc0",
       "version_major": 2,
       "version_minor": 0
      },
      "text/plain": [
       "VBox(children=(GridBox(children=(Button(description='Start', layout=Layout(grid_area='Start', width='auto'), s…"
      ]
     },
     "metadata": {},
     "output_type": "display_data"
    }
   ],
   "source": [
    "# Start and stop button definition\n",
    "start  = Button(description='Start',layout=Layout(width='auto', align=\"center\", grid_area='Start'),style=ButtonStyle(button_color='green'))\n",
    "stop  = Button(description='Stop',layout=Layout(width='auto', grid_area='Stop'),style=ButtonStyle(button_color='red'))\n",
    "output = widgets.Output()\n",
    "\n",
    "#Node initialization\n",
    "ui_client = rospy.ServiceProxy('/user_interface', Command)\n",
    "action_service = actionlib.SimpleActionServer(\n",
    "        '/go_to_point', rt2_assignment1.msg.Control2_1Action, auto_start=False)\n",
    "action_client = actionlib.SimpleActionClient('/go_to_point', rt2_assignment1.msg.Control2_1Action)\n",
    "\n",
    "random_status = False\n",
    "\n",
    "# Output of the buttons\n",
    "def start_click(start):\n",
    "    global random_status\n",
    "    with output:\n",
    "        ui_client(\"start\")\n",
    "        if random_status == True:\n",
    "            print(\"I am already on my random way\")\n",
    "        random_status = True\n",
    "        print('Start clicked')\n",
    "        \n",
    "\n",
    "def stop_click(stop):\n",
    "    global random_status\n",
    "    with output:\n",
    "        ui_client(\"stop\")\n",
    "        if random_status == False:\n",
    "            print(\"I was already stopped\")\n",
    "        random_status = False        \n",
    "        print('Stop clicked')\n",
    "        \n",
    "    \n",
    "# Callback definition\n",
    "start.on_click(start_click)\n",
    "stop.on_click(stop_click)\n",
    "\n",
    "\n",
    "# Buttons display\n",
    "buttons = GridBox(children=[start, stop],layout=Layout(width='50%',grid_template_rows='auto auto',grid_template_columns='50% 50%',grid_template_areas='''\"Start Stop \"'''))\n",
    "widgets.VBox([buttons, output])\n"
   ]
  },
  {
   "cell_type": "code",
   "execution_count": 15,
   "id": "bcf6cdf5",
   "metadata": {
    "ExecuteTime": {
     "end_time": "2021-06-02T00:00:27.778435Z",
     "start_time": "2021-06-02T00:00:27.725405Z"
    }
   },
   "outputs": [
    {
     "name": "stderr",
     "output_type": "stream",
     "text": [
      "Removing previous callback, only one redirection possible right now\n"
     ]
    },
    {
     "data": {
      "application/vnd.jupyter.widget-view+json": {
       "model_id": "2055cb726acc4b25aa398e88283df815",
       "version_major": 2,
       "version_minor": 0
      },
      "text/plain": [
       "VBox(children=(HBox(children=(Button(description='Stop', style=ButtonStyle()),)), Output(layout=Layout(border=…"
      ]
     },
     "metadata": {},
     "output_type": "display_data"
    }
   ],
   "source": [
    "## Display the barplot wiht the number of time a target has been reached or cancelled\n",
    "start_time = 0.0\n",
    "hist_time = []\n",
    "ouput_list = []  \n",
    "def result_callback(msg):\n",
    "    if msg.result.reached == True:\n",
    "        ouput_list.append(1)\n",
    "        hist_time.append(msg.header.stamp.secs - msg.status.goal_id.stamp.secs)\n",
    "    else:\n",
    "        ouput_list.append(0)\n",
    "    print(ouput_list)\n",
    "    print(hist_time)\n",
    "\n",
    "# Subscribe to the /go_to_point/results topic\n",
    "jr.subscribe('/go_to_point/result', rt2_assignment1.msg.Control2_1Action, result_callback)"
   ]
  },
  {
   "cell_type": "code",
   "execution_count": null,
   "id": "26674785",
   "metadata": {
    "ExecuteTime": {
     "end_time": "2021-06-01T23:50:19.685617Z",
     "start_time": "2021-06-01T23:50:19.629502Z"
    }
   },
   "outputs": [],
   "source": [
    "time_to_target = []\n",
    "# Display barplot with the result reached\n",
    "bar_fig = plt.figure()\n",
    "bar_ax = bar_fig.add_axes([0,0,1,1])\n",
    "plt.ylabel(\"Y\")\n",
    "\n",
    "def animate(i):\n",
    "    name = ['Canc.', 'Reached']\n",
    "    ouput_array = np.array(ouput_list)\n",
    "    barplot_data = [np.count_nonzero(np.where(ouput_array == 0)), np.count_nonzero(np.where(ouput_array == 1))] \n",
    "    plt.cla()\n",
    "    bar = plt.gca().bar(name, barplot_data)\n",
    "    plt.ylim(ylim)\n",
    "    \n",
    "anim=animation.FuncAnimation(bar_fig,animate, blit=True, repeat=False, frames=4)"
   ]
  },
  {
   "cell_type": "markdown",
   "id": "a7caabb4",
   "metadata": {
    "ExecuteTime": {
     "end_time": "2021-05-29T20:14:19.026334Z",
     "start_time": "2021-05-29T20:14:19.018683Z"
    }
   },
   "source": [
    "### Slider commands"
   ]
  },
  {
   "cell_type": "code",
   "execution_count": null,
   "id": "15883e42",
   "metadata": {
    "ExecuteTime": {
     "end_time": "2021-05-31T18:13:44.397743Z",
     "start_time": "2021-05-31T18:13:44.363836Z"
    },
    "scrolled": true
   },
   "outputs": [],
   "source": [
    "pub = rospy.Publisher('cmd_vel', Twist, queue_size=10)\n",
    "\n",
    "msg = Twist()\n",
    "\n",
    "a = widgets.FloatSlider(min=-1.0, max=1.0, description='Linear vel.')\n",
    "display(a)\n",
    "\n",
    "b = widgets.FloatSlider(min=-1.0, max=1.0, description='Angular vel.')\n",
    "display(b)\n",
    "\n",
    "\n",
    "def on_value_change(change):\n",
    "    global msg, random_status, linear_set\n",
    "    if random_status == False:\n",
    "        msg.linear.x = change['new']\n",
    "        linear_set = msg.linear.x\n",
    "        pub.publish(msg)\n",
    "    else:\n",
    "        print(\"Command ignored, random position movement active\")\n",
    "    \n",
    "def on_valueang_change(change):\n",
    "    global msg, random_status, angular_set\n",
    "    if random_status == False:\n",
    "        msg.angular.z = change['new']\n",
    "        angular_set = msg.angular.z \n",
    "        pub.publish(msg)\n",
    "    else:\n",
    "        print(\"Command ignored, random position movement active\")\n",
    "\n",
    "a.observe(on_value_change, names='value')\n",
    "b.observe(on_valueang_change, names='value')\n"
   ]
  },
  {
   "cell_type": "markdown",
   "id": "d264e468",
   "metadata": {},
   "source": [
    "### Control via buttons"
   ]
  },
  {
   "cell_type": "code",
   "execution_count": null,
   "id": "c67b1937",
   "metadata": {
    "ExecuteTime": {
     "end_time": "2021-05-31T18:13:47.753260Z",
     "start_time": "2021-05-31T18:13:47.675286Z"
    }
   },
   "outputs": [],
   "source": [
    "up  = Button(description='W',layout=Layout(width='auto', align=\"center\", grid_area='W'),style=ButtonStyle(button_color='gray'))\n",
    "left  = Button(description='A',layout=Layout(width='auto', grid_area='A'),style=ButtonStyle(button_color='gray'))\n",
    "stop_asd  = Button(description='Alt',layout=Layout(width='auto', grid_area='Alt'),style=ButtonStyle(button_color='red'))\n",
    "right = Button(description='D',layout=Layout(width='auto', grid_area='D'),style=ButtonStyle(button_color='gray'))\n",
    "down = Button(description='S',layout=Layout(width='auto', grid_area='S'),style=ButtonStyle(button_color='gray'))\n",
    "\n",
    "# Output of the buttons for moving\n",
    "def up_click(up):\n",
    "    global random_status, linear_set, angular_set\n",
    "    if random_status == False:\n",
    "        msg.linear.x = 0.5\n",
    "        msg.angular.z = 0.0\n",
    "        linear_set = msg.linear.x \n",
    "        angular_set = msg.angular.z\n",
    "        pub.publish(msg)\n",
    "        print(\"Go straight\")\n",
    "    else:\n",
    "        print(\"Command ignored, random position movement active\")       \n",
    "        \n",
    "def down_click(down):\n",
    "    global random_status, linear_set, angular_set\n",
    "    if random_status == False:\n",
    "        msg.linear.x = -0.5\n",
    "        msg.angular.z = 0.0\n",
    "        linear_set = msg.linear.x \n",
    "        angular_set = msg.angular.z \n",
    "        pub.publish(msg)\n",
    "        print(\"Shrimp style\")\n",
    "    else:\n",
    "        print(\"Command ignored, random position movement active\")  \n",
    "        \n",
    "def right_click(right):\n",
    "    global random_status, linear_set, angular_set\n",
    "    if random_status == False:\n",
    "        msg.linear.x = 0.5\n",
    "        msg.angular.z = 1.0\n",
    "        linear_set = msg.linear.x \n",
    "        angular_set = msg.angular.z\n",
    "        pub.publish(msg)\n",
    "        print(\"Turn right\")\n",
    "    else:\n",
    "        print(\"Command ignored, random position movement active\")  \n",
    "        \n",
    "def left_click(left):\n",
    "    global random_status, linear_set, angular_set\n",
    "    if random_status == False:\n",
    "        msg.linear.x = 0.5\n",
    "        msg.angular.z = -1.0\n",
    "        linear_set = msg.linear.x \n",
    "        angular_set = msg.angular.z\n",
    "        pub.publish(msg)\n",
    "        print(\"Turn left\")\n",
    "    else:\n",
    "        print(\"Command ignored, random position movement active\")  \n",
    "\n",
    "        \n",
    "# Output of the button for stopping       \n",
    "def stop_asd_click(stop_asd):\n",
    "    global random_status, linear_set, angular_set\n",
    "    if random_status == False:\n",
    "        msg.linear.x = 0.0\n",
    "        msg.angular.z = 0.0\n",
    "        linear_set = msg.linear.x \n",
    "        angular_set = msg.angular.z\n",
    "        pub.publish(msg)\n",
    "        print('Robot stopped')\n",
    "    else:\n",
    "        print(\"Command ignored, random position movement active\")  \n",
    "\n",
    "# Callback definition\n",
    "up.on_click(up_click)\n",
    "down.on_click(down_click)\n",
    "right.on_click(right_click)\n",
    "left.on_click(left_click)\n",
    "stop_asd.on_click(stop_asd_click)\n",
    "\n",
    "# Buttons display\n",
    "buttons = GridBox(children=[start, stop],layout=Layout(width='50%',grid_template_rows='auto auto',grid_template_columns='50% 50%',grid_template_areas='''\"Start Stop \"'''))\n",
    "widgets.VBox([buttons, output])\n",
    "\n",
    "GridBox(children=[up,  left, stop_asd, right, down],layout=Layout(width='50%',grid_template_rows='auto auto',grid_template_columns='33% 33% 33%',grid_template_areas='''\" . W . \"\"A Alt D \"\".S .\"'''))"
   ]
  },
  {
   "cell_type": "markdown",
   "id": "d9af290e",
   "metadata": {},
   "source": [
    "## Display\n",
    "### Visualize robot target reached"
   ]
  },
  {
   "cell_type": "code",
   "execution_count": null,
   "id": "0faad1c5",
   "metadata": {
    "ExecuteTime": {
     "end_time": "2021-06-01T23:32:31.523916Z",
     "start_time": "2021-06-01T23:32:31.465349Z"
    }
   },
   "outputs": [],
   "source": []
  },
  {
   "cell_type": "code",
   "execution_count": null,
   "id": "5f709882",
   "metadata": {
    "ExecuteTime": {
     "end_time": "2021-06-01T23:42:01.308188Z",
     "start_time": "2021-06-01T23:42:01.245317Z"
    }
   },
   "outputs": [],
   "source": [
    " "
   ]
  },
  {
   "cell_type": "code",
   "execution_count": 16,
   "id": "f9f733aa",
   "metadata": {
    "ExecuteTime": {
     "end_time": "2021-06-02T00:00:43.315987Z",
     "start_time": "2021-06-02T00:00:43.186305Z"
    }
   },
   "outputs": [
    {
     "data": {
      "application/vnd.jupyter.widget-view+json": {
       "model_id": "1f3e1505ef0e4db591b422b0d126dfa6",
       "version_major": 2,
       "version_minor": 0
      },
      "text/plain": [
       "Canvas(toolbar=Toolbar(toolitems=[('Home', 'Reset original view', 'home', 'home'), ('Back', 'Back to previous …"
      ]
     },
     "metadata": {},
     "output_type": "display_data"
    },
    {
     "name": "stderr",
     "output_type": "stream",
     "text": [
      "Removing previous callback, only one redirection possible right now\n"
     ]
    }
   ],
   "source": [
    "# First set up the figures and the axis \n",
    "    # Robot position and orientation\n",
    "fig, ax = plt.subplots()\n",
    "ax.set_xlim(( -5, 5))\n",
    "ax.set_ylim((-5, 5))\n",
    "plt.xlabel(\"X\")\n",
    "plt.ylabel(\"Y\")\n",
    "plt.title(\"Robot positon\")\n",
    "line, = ax.plot([], [], 'ro')\n",
    "x_data = []\n",
    "y_data = []\n",
    "theta_data = []\n",
    "\n",
    "def init():\n",
    "    line.set_data([], [])\n",
    "    return (line,)\n",
    "\n",
    "def odom_callback(msg):\n",
    "    y_data.append(msg.pose.pose.position.y)\n",
    "    x_data.append(msg.pose.pose.position.x)\n",
    "    quaternion = (msg.pose.pose.orientation.x, msg.pose.pose.orientation.y,msg.pose.pose.orientation.z, msg.pose.pose.orientation.w)\n",
    "    euler_angles = euler_from_quaternion(quaternion)\n",
    "    theta_data.append(euler_angles[2])    \n",
    "    \n",
    "def animate(i):\n",
    "    global arrow \n",
    "    line.set_data(x_data, y_data)\n",
    "    #ax.patches.remove(arrow)\n",
    "    \n",
    "    arrow = plt.Arrow(x_data[-1], y_data[-1], dx=np.cos(theta_data[-1]), dy=np.sin(theta_data[-1]), width=0.1, color='red')\n",
    "    ax.add_patch(arrow)\n",
    "    return (line, arrow)\n",
    "\n",
    "jr.subscribe('/odom', Odometry, odom_callback)\n",
    "    \n",
    "# call the animator. blit=True means only re-draw the parts that have changed.)\n",
    "\n",
    "anim_position = animation.FuncAnimation(fig, animate, init_func=init,frames=100, interval=20, blit=True)  \n",
    "    "
   ]
  },
  {
   "cell_type": "markdown",
   "id": "6b5a7d39",
   "metadata": {},
   "source": [
    "### Velocity display"
   ]
  },
  {
   "cell_type": "code",
   "execution_count": null,
   "id": "103964c6",
   "metadata": {
    "ExecuteTime": {
     "end_time": "2021-05-30T19:36:31.231834Z",
     "start_time": "2021-05-30T19:36:31.110997Z"
    }
   },
   "outputs": [],
   "source": [
    "# Velocity feedback\n",
    "fig_vel, ax_vel = plt.subplots()\n",
    "ax_vel.set_ylim((-1, 1))\n",
    "plt.title(\"Velocity check\")\n",
    "vel_target_line,  = ax_vel.plot([], [], 'ro')\n",
    "time = []\n",
    "vel_target = []\n",
    "vel_current = []\n",
    "ang_target = []\n",
    "ang_current = []\n",
    "\n",
    "def init_vel():\n",
    "    vel_target_line.set_data([], [])\n",
    "    #vel_current_line.set_data([], [])\n",
    "    return (vel_target_line, )\n",
    "\n",
    "def vel_callback(msg):  \n",
    "    global linear_set, angular_set\n",
    "    \n",
    "    vel_target.append(linear_set)\n",
    "    #vel_current.append(msg_vel.angular.z)\n",
    "    time.append(rospy.get_time())\n",
    "    \n",
    "    \n",
    "def animate_vel(i):\n",
    "    vel_target_line.set_data(time, vel_target)\n",
    "    #vel_target.set_data(time, vel_current)    \n",
    "    return (vel_target_line, )\n",
    "\n",
    "jr.subscribe('/cmd_vel', Twist, vel_callback)\n",
    "\n",
    "anim_velocity = animation.FuncAnimation(fig_vel, animate_vel, init_func=init_vel, blit=True)\n",
    "\n",
    "print(rospy.get_time())\n"
   ]
  },
  {
   "cell_type": "code",
   "execution_count": null,
   "id": "01b2b841",
   "metadata": {},
   "outputs": [],
   "source": [
    " # Boxplot of target reached\n",
    "fig_bp, ax_bp = plt.subplots()\n",
    "plt.title(\"Target  reached\")\n",
    "target_reached = []\n",
    "target_cancelled = []\n",
    "\n",
    "    # Histogram for time required for reaching a target"
   ]
  },
  {
   "cell_type": "code",
   "execution_count": null,
   "id": "1351fecf",
   "metadata": {},
   "outputs": [],
   "source": []
  }
 ],
 "metadata": {
  "hide_input": false,
  "kernelspec": {
   "display_name": "Python 3",
   "language": "python",
   "name": "python3"
  },
  "language_info": {
   "codemirror_mode": {
    "name": "ipython",
    "version": 3
   },
   "file_extension": ".py",
   "mimetype": "text/x-python",
   "name": "python",
   "nbconvert_exporter": "python",
   "pygments_lexer": "ipython3",
   "version": "3.8.5"
  },
  "toc": {
   "base_numbering": 1,
   "nav_menu": {},
   "number_sections": true,
   "sideBar": true,
   "skip_h1_title": false,
   "title_cell": "Table of Contents",
   "title_sidebar": "Contents",
   "toc_cell": false,
   "toc_position": {},
   "toc_section_display": true,
   "toc_window_display": false
  },
  "varInspector": {
   "cols": {
    "lenName": 16,
    "lenType": 16,
    "lenVar": 40
   },
   "kernels_config": {
    "python": {
     "delete_cmd_postfix": "",
     "delete_cmd_prefix": "del ",
     "library": "var_list.py",
     "varRefreshCmd": "print(var_dic_list())"
    },
    "r": {
     "delete_cmd_postfix": ") ",
     "delete_cmd_prefix": "rm(",
     "library": "var_list.r",
     "varRefreshCmd": "cat(var_dic_list()) "
    }
   },
   "types_to_exclude": [
    "module",
    "function",
    "builtin_function_or_method",
    "instance",
    "_Feature"
   ],
   "window_display": false
  }
 },
 "nbformat": 4,
 "nbformat_minor": 5
}
